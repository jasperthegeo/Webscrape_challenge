{
 "cells": [
  {
   "cell_type": "code",
   "execution_count": null,
   "metadata": {},
   "outputs": [],
   "source": [
    "#import dependencies \n",
    "import requests\n",
    "import pandas as pd\n",
    "import datetime\n",
    "import os\n",
    "from bs4 import BeautifulSoup as bs\n",
    "from splinter import Browser\n"
   ]
  },
  {
   "cell_type": "code",
   "execution_count": null,
   "metadata": {},
   "outputs": [],
   "source": [
    "from webdriver_manager.chrome import ChromeDriverManager\n",
    "exe_path = {'executable_path': ChromeDriverManager().install()}\n",
    "browser = Browser('chrome', **exe_path, headless=False)"
   ]
  },
  {
   "cell_type": "code",
   "execution_count": null,
   "metadata": {},
   "outputs": [],
   "source": [
    "#Visit and Soup objects - Mars News\n",
    "news_url = \"https://mars.nasa.gov/news/\"\n",
    "browser.visit(news_url)\n",
    "html = browser.html\n",
    "soup = bs(html,\"html.parser\")"
   ]
  },
  {
   "cell_type": "code",
   "execution_count": null,
   "metadata": {},
   "outputs": [],
   "source": [
    "thrd = soup.find(\"div\", class_=\"list_text\")\n",
    "news_title = thrd.find(\"div\", class_= \"content_title\").text\n",
    "news_para = thrd.find(\"div\", class_=\"article_teaser_body\").text"
   ]
  },
  {
   "cell_type": "code",
   "execution_count": null,
   "metadata": {},
   "outputs": [],
   "source": [
    "#Jet Propolsion Labs Photo\n",
    "photo_url = \"https://www.jpl.nasa.gov/spaceimages/?search=&category=Mars\"\n",
    "browser.visit(photo_url)\n",
    "html = browser.html\n",
    "soup = bs(html,\"html.parser\")"
   ]
  },
  {
   "cell_type": "code",
   "execution_count": null,
   "metadata": {},
   "outputs": [],
   "source": [
    "#Pull the dragon's tooth - Extract the Image\n",
    "thd = soup.find(\"article\", class_=\"carousel_item\")\n",
    "photo = thd.find(\"a\", class_=\"button fancybox\")[\"data-fancybox-href\"]                                                       \n",
    "photo_url = \"https://www.jpl.nasa.gov/\" + featured_image\n",
    "print(photo_url)"
   ]
  },
  {
   "cell_type": "code",
   "execution_count": null,
   "metadata": {},
   "outputs": [],
   "source": [
    "#Half-the-Globe for there is no object more perfect than the Sphere\n",
    "hems_url = \"https://astrogeology.usgs.gov/search/results?q=hemisphere+enhanced&k1=target&v1=Mars\"\n",
    "browser.visit(hems_url)\n",
    "html = browser.html\n",
    "soup = bs(html, \"html.parser\")"
   ]
  },
  {
   "cell_type": "code",
   "execution_count": null,
   "metadata": {},
   "outputs": [],
   "source": [
    "#Mars Facts\n",
    "url = \"https://space-facts.com/mars/\"\n",
    "temp_df = pd.read_html(url)\n",
    "mars_df = temp_df[0]\n",
    "mars_df.columns=[\"Description\", \"Mars\"]\n",
    "mars_df.set_index(\"Description\", inplace=True)\n",
    "mars_df.to_html(\"mars_facts.html\")"
   ]
  },
  {
   "cell_type": "code",
   "execution_count": null,
   "metadata": {},
   "outputs": [],
   "source": [
    "#Divs /Titles/Images\n",
    "result = soup.find_all(\"div\", class_=\"item\")\n",
    "hem_photo_url =[]\n",
    "\n",
    "for r in result:\n",
    "    title = result.find(\"h3\").text\n",
    "    hems_link = result.find(\"a\", class_=\"itemLink product-item\")[\"href\"]\n",
    "    photo_snip = \"https://astrogeology.usgs.gov/\" + hems_link\n",
    "    browser.visit(photo_snip)\n",
    "    photo_html = browser.html\n",
    "    soup = bs(photo_html, \"html.parser\")\n",
    "    photo_url = \"https://astrogeology.usgs.gov/\" + soup.find(\"img\", class_=\"wide-image\")[\"src\"]\n",
    "    hem_photo_url.append({\"title\":title, \"Image_url\":image_url})"
   ]
  },
  {
   "cell_type": "code",
   "execution_count": null,
   "metadata": {},
   "outputs": [],
   "source": [
    "#store information into a dictionary to be used for scrape \n",
    "mars_dict = {\"News_titles\":news_title, \"News_Text\":news_para,\\\n",
    "             \"Photo\":photo_url, \"Mars\":mars_df,\\\n",
    "             \"hem_photo_url\":hem_photo_url}"
   ]
  },
  {
   "cell_type": "code",
   "execution_count": null,
   "metadata": {},
   "outputs": [],
   "source": [
    "# Close browser session\n",
    "browser.quit()"
   ]
  }
 ],
 "metadata": {
  "kernelspec": {
   "display_name": "Python 3",
   "language": "python",
   "name": "python3"
  },
  "language_info": {
   "codemirror_mode": {
    "name": "ipython",
    "version": 3
   },
   "file_extension": ".py",
   "mimetype": "text/x-python",
   "name": "python",
   "nbconvert_exporter": "python",
   "pygments_lexer": "ipython3",
   "version": "3.8.3"
  }
 },
 "nbformat": 4,
 "nbformat_minor": 4
}
